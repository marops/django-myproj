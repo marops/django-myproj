{
 "cells": [
  {
   "cell_type": "code",
   "execution_count": 1,
   "metadata": {
    "scrolled": true
   },
   "outputs": [],
   "source": [
    "import os\n",
    "# this environment variable points to the 'settings' module \n",
    "# in the Django app.\n",
    "os.environ.setdefault(\"DJANGO_SETTINGS_MODULE\", \"myproj.settings\")\n",
    "# maybe not be necessary if you hard coded you DB URL in settings, \n",
    "# but mine it pulled from the DATABASE_URL environment variable\n",
    "os.environ.setdefault(\"DATABASE_URL\", \n",
    "\"postgres://localhost:5432/db\")\n",
    "# and then...\n",
    "import django\n",
    "django.setup()\n"
   ]
  },
  {
   "cell_type": "code",
   "execution_count": 3,
   "metadata": {},
   "outputs": [
    {
     "name": "stdout",
     "output_type": "stream",
     "text": [
      "SITREP 2019-06-29\n",
      "DOCUMENT: First\n",
      "DOCUMENT:\n"
     ]
    }
   ],
   "source": [
    "from sitreps.models import *\n",
    "\n",
    "for i in  Document.objects.all():\n",
    "    print(i)"
   ]
  },
  {
   "cell_type": "code",
   "execution_count": null,
   "metadata": {},
   "outputs": [],
   "source": []
  }
 ],
 "metadata": {
  "kernelspec": {
   "display_name": "Python 3",
   "language": "python",
   "name": "python3"
  },
  "language_info": {
   "codemirror_mode": {
    "name": "ipython",
    "version": 3
   },
   "file_extension": ".py",
   "mimetype": "text/x-python",
   "name": "python",
   "nbconvert_exporter": "python",
   "pygments_lexer": "ipython3",
   "version": "3.7.3"
  }
 },
 "nbformat": 4,
 "nbformat_minor": 2
}
